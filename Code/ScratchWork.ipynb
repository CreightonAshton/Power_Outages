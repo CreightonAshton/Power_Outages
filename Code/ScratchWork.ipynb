{
 "cells": [
  {
   "cell_type": "markdown",
   "metadata": {},
   "source": [
    "# Twitter scraping"
   ]
  },
  {
   "cell_type": "code",
   "execution_count": 3,
   "metadata": {},
   "outputs": [
    {
     "name": "stdout",
     "output_type": "stream",
     "text": [
      "Requirement already satisfied: twitterscraper in /Users/Creighton/anaconda3/lib/python3.7/site-packages (1.3.1)\n",
      "Requirement already satisfied: bs4 in /Users/Creighton/anaconda3/lib/python3.7/site-packages (from twitterscraper) (0.0.1)\n",
      "Requirement already satisfied: requests in /Users/Creighton/anaconda3/lib/python3.7/site-packages (from twitterscraper) (2.22.0)\n",
      "Requirement already satisfied: lxml in /Users/Creighton/anaconda3/lib/python3.7/site-packages (from twitterscraper) (4.3.4)\n",
      "Requirement already satisfied: billiard in /Users/Creighton/anaconda3/lib/python3.7/site-packages (from twitterscraper) (3.6.1.0)\n",
      "Requirement already satisfied: coala-utils~=0.5.0 in /Users/Creighton/anaconda3/lib/python3.7/site-packages (from twitterscraper) (0.5.1)\n",
      "Requirement already satisfied: beautifulsoup4 in /Users/Creighton/anaconda3/lib/python3.7/site-packages (from bs4->twitterscraper) (4.7.1)\n",
      "Requirement already satisfied: idna<2.9,>=2.5 in /Users/Creighton/anaconda3/lib/python3.7/site-packages (from requests->twitterscraper) (2.8)\n",
      "Requirement already satisfied: chardet<3.1.0,>=3.0.2 in /Users/Creighton/anaconda3/lib/python3.7/site-packages (from requests->twitterscraper) (3.0.4)\n",
      "Requirement already satisfied: urllib3!=1.25.0,!=1.25.1,<1.26,>=1.21.1 in /Users/Creighton/anaconda3/lib/python3.7/site-packages (from requests->twitterscraper) (1.24.2)\n",
      "Requirement already satisfied: certifi>=2017.4.17 in /Users/Creighton/anaconda3/lib/python3.7/site-packages (from requests->twitterscraper) (2019.9.11)\n",
      "Requirement already satisfied: soupsieve>=1.2 in /Users/Creighton/anaconda3/lib/python3.7/site-packages (from beautifulsoup4->bs4->twitterscraper) (1.8)\n"
     ]
    }
   ],
   "source": [
    "# Install Twitter Scraper\n",
    "!pip install twitterscraper"
   ]
  },
  {
   "cell_type": "code",
   "execution_count": 7,
   "metadata": {},
   "outputs": [],
   "source": [
    "from twitterscraper import query_tweets\n",
    "import pandas as pd\n",
    "import datetime, time"
   ]
  },
  {
   "cell_type": "code",
   "execution_count": 8,
   "metadata": {
    "scrolled": true
   },
   "outputs": [
    {
     "name": "stderr",
     "output_type": "stream",
     "text": [
      "INFO: queries: ['power outage -filter:retweets near: Los Angeles within:10mi since:2019-10-15 until:2019-10-18', 'power outage -filter:retweets near: Los Angeles within:10mi since:2019-10-18 until:2019-10-22']\n",
      "INFO: Querying power outage -filter:retweets near: Los Angeles within:10mi since:2019-10-18 until:2019-10-22\n",
      "INFO: Scraping tweets from https://twitter.com/search?f=tweets&vertical=default&q=power%20outage%20-filter%3Aretweets%20near%3A%20Los%20Angeles%20within%3A10mi%20since%3A2019-10-18%20until%3A2019-10-22&l=english\n",
      "INFO: Querying power outage -filter:retweets near: Los Angeles within:10mi since:2019-10-15 until:2019-10-18\n",
      "INFO: Scraping tweets from https://twitter.com/search?f=tweets&vertical=default&q=power%20outage%20-filter%3Aretweets%20near%3A%20Los%20Angeles%20within%3A10mi%20since%3A2019-10-15%20until%3A2019-10-18&l=english\n",
      "INFO: Using proxy 85.9.250.244:41258\n",
      "INFO: Using proxy 85.9.250.244:41258\n",
      "Process 'ForkPoolWorker-14' pid:51498 exited with 'signal 11 (SIGSEGV)'\n",
      "Process 'ForkPoolWorker-13' pid:51497 exited with 'signal 11 (SIGSEGV)'\n"
     ]
    },
    {
     "ename": "Exception",
     "evalue": "Traceback (most recent call last):\n  File \"/Users/Creighton/anaconda3/lib/python3.7/site-packages/billiard/pool.py\", line 1267, in mark_as_worker_lost\n    human_status(exitcode)),\nbilliard.exceptions.WorkerLostError: Worker exited prematurely: signal 11 (SIGSEGV).\n",
     "output_type": "error",
     "traceback": [
      "\u001b[0;31m---------------------------------------------------------------------------\u001b[0m",
      "\u001b[0;31mException\u001b[0m                                 Traceback (most recent call last)",
      "\u001b[0;32m<ipython-input-8-6c8d69e99fb3>\u001b[0m in \u001b[0;36m<module>\u001b[0;34m\u001b[0m\n\u001b[1;32m      4\u001b[0m                             \u001b[0menddate\u001b[0m \u001b[0;34m=\u001b[0m \u001b[0mdatetime\u001b[0m\u001b[0;34m.\u001b[0m\u001b[0mdate\u001b[0m\u001b[0;34m(\u001b[0m\u001b[0;36m2019\u001b[0m\u001b[0;34m,\u001b[0m\u001b[0;36m10\u001b[0m\u001b[0;34m,\u001b[0m\u001b[0;36m22\u001b[0m\u001b[0;34m)\u001b[0m\u001b[0;34m,\u001b[0m\u001b[0;34m\u001b[0m\u001b[0;34m\u001b[0m\u001b[0m\n\u001b[1;32m      5\u001b[0m                             \u001b[0mpoolsize\u001b[0m \u001b[0;34m=\u001b[0m \u001b[0;36m2\u001b[0m\u001b[0;34m,\u001b[0m\u001b[0;34m\u001b[0m\u001b[0;34m\u001b[0m\u001b[0m\n\u001b[0;32m----> 6\u001b[0;31m                             \u001b[0mlang\u001b[0m\u001b[0;34m=\u001b[0m\u001b[0;34m\"english\"\u001b[0m\u001b[0;34m\u001b[0m\u001b[0;34m\u001b[0m\u001b[0m\n\u001b[0m\u001b[1;32m      7\u001b[0m                            )\n\u001b[1;32m      8\u001b[0m \u001b[0mprint\u001b[0m\u001b[0;34m(\u001b[0m\u001b[0;34m(\u001b[0m\u001b[0mtime\u001b[0m\u001b[0;34m.\u001b[0m\u001b[0mtime\u001b[0m\u001b[0;34m(\u001b[0m\u001b[0;34m)\u001b[0m\u001b[0;34m-\u001b[0m\u001b[0mt0\u001b[0m\u001b[0;34m)\u001b[0m\u001b[0;34m/\u001b[0m\u001b[0;36m60\u001b[0m\u001b[0;34m)\u001b[0m\u001b[0;34m\u001b[0m\u001b[0;34m\u001b[0m\u001b[0m\n",
      "\u001b[0;32m~/anaconda3/lib/python3.7/site-packages/twitterscraper/query.py\u001b[0m in \u001b[0;36mquery_tweets\u001b[0;34m(query, limit, begindate, enddate, poolsize, lang)\u001b[0m\n\u001b[1;32m    234\u001b[0m         \u001b[0mlogger\u001b[0m\u001b[0;34m.\u001b[0m\u001b[0minfo\u001b[0m\u001b[0;34m(\u001b[0m\u001b[0;34m'queries: {}'\u001b[0m\u001b[0;34m.\u001b[0m\u001b[0mformat\u001b[0m\u001b[0;34m(\u001b[0m\u001b[0mqueries\u001b[0m\u001b[0;34m)\u001b[0m\u001b[0;34m)\u001b[0m\u001b[0;34m\u001b[0m\u001b[0;34m\u001b[0m\u001b[0m\n\u001b[1;32m    235\u001b[0m         \u001b[0;32mtry\u001b[0m\u001b[0;34m:\u001b[0m\u001b[0;34m\u001b[0m\u001b[0;34m\u001b[0m\u001b[0m\n\u001b[0;32m--> 236\u001b[0;31m             \u001b[0;32mfor\u001b[0m \u001b[0mnew_tweets\u001b[0m \u001b[0;32min\u001b[0m \u001b[0mpool\u001b[0m\u001b[0;34m.\u001b[0m\u001b[0mimap_unordered\u001b[0m\u001b[0;34m(\u001b[0m\u001b[0mpartial\u001b[0m\u001b[0;34m(\u001b[0m\u001b[0mquery_tweets_once\u001b[0m\u001b[0;34m,\u001b[0m \u001b[0mlimit\u001b[0m\u001b[0;34m=\u001b[0m\u001b[0mlimit_per_pool\u001b[0m\u001b[0;34m,\u001b[0m \u001b[0mlang\u001b[0m\u001b[0;34m=\u001b[0m\u001b[0mlang\u001b[0m\u001b[0;34m)\u001b[0m\u001b[0;34m,\u001b[0m \u001b[0mqueries\u001b[0m\u001b[0;34m)\u001b[0m\u001b[0;34m:\u001b[0m\u001b[0;34m\u001b[0m\u001b[0;34m\u001b[0m\u001b[0m\n\u001b[0m\u001b[1;32m    237\u001b[0m                 \u001b[0mall_tweets\u001b[0m\u001b[0;34m.\u001b[0m\u001b[0mextend\u001b[0m\u001b[0;34m(\u001b[0m\u001b[0mnew_tweets\u001b[0m\u001b[0;34m)\u001b[0m\u001b[0;34m\u001b[0m\u001b[0;34m\u001b[0m\u001b[0m\n\u001b[1;32m    238\u001b[0m                 logger.info('Got {} tweets ({} new).'.format(\n",
      "\u001b[0;32m~/anaconda3/lib/python3.7/site-packages/billiard/pool.py\u001b[0m in \u001b[0;36mnext\u001b[0;34m(self, timeout)\u001b[0m\n\u001b[1;32m   1962\u001b[0m         \u001b[0;32mif\u001b[0m \u001b[0msuccess\u001b[0m\u001b[0;34m:\u001b[0m\u001b[0;34m\u001b[0m\u001b[0;34m\u001b[0m\u001b[0m\n\u001b[1;32m   1963\u001b[0m             \u001b[0;32mreturn\u001b[0m \u001b[0mvalue\u001b[0m\u001b[0;34m\u001b[0m\u001b[0;34m\u001b[0m\u001b[0m\n\u001b[0;32m-> 1964\u001b[0;31m         \u001b[0;32mraise\u001b[0m \u001b[0mException\u001b[0m\u001b[0;34m(\u001b[0m\u001b[0mvalue\u001b[0m\u001b[0;34m)\u001b[0m\u001b[0;34m\u001b[0m\u001b[0;34m\u001b[0m\u001b[0m\n\u001b[0m\u001b[1;32m   1965\u001b[0m \u001b[0;34m\u001b[0m\u001b[0m\n\u001b[1;32m   1966\u001b[0m     \u001b[0m__next__\u001b[0m \u001b[0;34m=\u001b[0m \u001b[0mnext\u001b[0m                    \u001b[0;31m# XXX\u001b[0m\u001b[0;34m\u001b[0m\u001b[0;34m\u001b[0m\u001b[0m\n",
      "\u001b[0;31mException\u001b[0m: Traceback (most recent call last):\n  File \"/Users/Creighton/anaconda3/lib/python3.7/site-packages/billiard/pool.py\", line 1267, in mark_as_worker_lost\n    human_status(exitcode)),\nbilliard.exceptions.WorkerLostError: Worker exited prematurely: signal 11 (SIGSEGV).\n"
     ]
    }
   ],
   "source": [
    "t0 = time.time()\n",
    "list_o_tweet = query_tweets(\"power outage -filter:retweets near: Los Angeles within:10mi\",\n",
    "                            begindate = datetime.date(2019,10,15),\n",
    "                            enddate = datetime.date(2019,10,22),\n",
    "                            poolsize = 2,\n",
    "                            lang=\"english\"\n",
    "                           )\n",
    "print((time.time()-t0)/60)"
   ]
  },
  {
   "cell_type": "code",
   "execution_count": 4,
   "metadata": {
    "scrolled": true
   },
   "outputs": [
    {
     "data": {
      "text/plain": [
       "'The city also says that as of 4:30 p.m. there are approximately 42,000 power outages.\\nOncor is bringing in crews from other areas to assist in restoring power. \\nSince last evening, Atmos has received 500 calls for service, and has repaired four leaks.'"
      ]
     },
     "execution_count": 4,
     "metadata": {},
     "output_type": "execute_result"
    }
   ],
   "source": [
    "list_o_tweet[0].text"
   ]
  },
  {
   "cell_type": "code",
   "execution_count": 34,
   "metadata": {},
   "outputs": [
    {
     "name": "stdout",
     "output_type": "stream",
     "text": [
      "0\n",
      "------------\n",
      "0\n",
      "------------\n",
      "0\n",
      "------------\n",
      "1\n",
      "------------\n",
      "0\n",
      "------------\n"
     ]
    }
   ],
   "source": [
    "for i in range(len(list_o_tweets)):\n",
    "    print(list_o_tweet[i].text)\n",
    "    print('------------')"
   ]
  },
  {
   "cell_type": "code",
   "execution_count": null,
   "metadata": {},
   "outputs": [],
   "source": []
  }
 ],
 "metadata": {
  "kernelspec": {
   "display_name": "Python 3",
   "language": "python",
   "name": "python3"
  },
  "language_info": {
   "codemirror_mode": {
    "name": "ipython",
    "version": 3
   },
   "file_extension": ".py",
   "mimetype": "text/x-python",
   "name": "python",
   "nbconvert_exporter": "python",
   "pygments_lexer": "ipython3",
   "version": "3.7.3"
  }
 },
 "nbformat": 4,
 "nbformat_minor": 2
}

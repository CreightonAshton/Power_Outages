{
 "cells": [
  {
   "cell_type": "markdown",
   "metadata": {},
   "source": [
    "## Power Outage Data\n",
    "\n",
    "- Collected from: https://www.oe.netl.doe.gov/OE417_annual_summary.aspx\n",
    "- Report information: https://www.oe.netl.doe.gov/docs/OE417_Form_Instructions_05312021.pdf\n",
    "\n",
    "\n"
   ]
  },
  {
   "cell_type": "code",
   "execution_count": 32,
   "metadata": {},
   "outputs": [],
   "source": [
    "import pandas as pd\n",
    "import numpy as np"
   ]
  },
  {
   "cell_type": "code",
   "execution_count": 33,
   "metadata": {},
   "outputs": [
    {
     "name": "stdout",
     "output_type": "stream",
     "text": [
      "WARNING *** file size (73412) not 512 + multiple of sector size (512)\n",
      "WARNING *** file size (73412) not 512 + multiple of sector size (512)\n",
      "WARNING *** file size (69316) not 512 + multiple of sector size (512)\n",
      "WARNING *** file size (86212) not 512 + multiple of sector size (512)\n",
      "WARNING *** file size (79044) not 512 + multiple of sector size (512)\n"
     ]
    }
   ],
   "source": [
    "# Import power outage data & concat from year 2015 - 2019\n",
    "data_list = []\n",
    "for i in range(5,10,1):\n",
    "    data = pd.read_excel(f\"../Data/201{i}_Annual_Summary.xls\", header = 1)\n",
    "    data_list.append(data)\n",
    "df = pd.concat(data_list, axis=0, ignore_index=True)\n",
    "\n",
    "#https://stackoverflow.com/questions/20906474/import-multiple-csv-files-into-pandas-and-concatenate-into-one-dataframe"
   ]
  },
  {
   "cell_type": "code",
   "execution_count": 34,
   "metadata": {},
   "outputs": [
    {
     "data": {
      "text/plain": [
       "Month                           0\n",
       "Date Event Began                0\n",
       "Time Event Began                0\n",
       "Date of Restoration             0\n",
       "Time of Restoration             0\n",
       "Area Affected                   0\n",
       "NERC Region                     6\n",
       "Alert Criteria                  0\n",
       "Event Type                      0\n",
       "Demand Loss (MW)                0\n",
       "Number of Customers Affected    0\n",
       "dtype: int64"
      ]
     },
     "execution_count": 34,
     "metadata": {},
     "output_type": "execute_result"
    }
   ],
   "source": [
    "df.isnull().sum()"
   ]
  },
  {
   "cell_type": "code",
   "execution_count": 35,
   "metadata": {},
   "outputs": [],
   "source": [
    "df = df.fillna(\"Unknown\")"
   ]
  },
  {
   "cell_type": "code",
   "execution_count": 36,
   "metadata": {},
   "outputs": [
    {
     "data": {
      "text/plain": [
       "(846, 11)"
      ]
     },
     "execution_count": 36,
     "metadata": {},
     "output_type": "execute_result"
    }
   ],
   "source": [
    "df.shape"
   ]
  },
  {
   "cell_type": "code",
   "execution_count": 37,
   "metadata": {},
   "outputs": [],
   "source": [
    "df_ca = df[df['Area Affected'].str.lower().str.contains(\"california\")]"
   ]
  },
  {
   "cell_type": "code",
   "execution_count": 38,
   "metadata": {},
   "outputs": [
    {
     "data": {
      "text/plain": [
       "(122, 11)"
      ]
     },
     "execution_count": 38,
     "metadata": {},
     "output_type": "execute_result"
    }
   ],
   "source": [
    "df_ca.shape"
   ]
  },
  {
   "cell_type": "markdown",
   "metadata": {},
   "source": [
    "**Get rid of `Demand Loss (MW)` = 0**"
   ]
  },
  {
   "cell_type": "code",
   "execution_count": 39,
   "metadata": {},
   "outputs": [],
   "source": [
    "df_ca = df_ca[df_ca['Demand Loss (MW)'] != '0']"
   ]
  },
  {
   "cell_type": "code",
   "execution_count": 42,
   "metadata": {},
   "outputs": [
    {
     "data": {
      "text/plain": [
       "(89, 11)"
      ]
     },
     "execution_count": 42,
     "metadata": {},
     "output_type": "execute_result"
    }
   ],
   "source": [
    "df_ca.shape"
   ]
  },
  {
   "cell_type": "code",
   "execution_count": 43,
   "metadata": {},
   "outputs": [
    {
     "data": {
      "text/html": [
       "<div>\n",
       "<style scoped>\n",
       "    .dataframe tbody tr th:only-of-type {\n",
       "        vertical-align: middle;\n",
       "    }\n",
       "\n",
       "    .dataframe tbody tr th {\n",
       "        vertical-align: top;\n",
       "    }\n",
       "\n",
       "    .dataframe thead th {\n",
       "        text-align: right;\n",
       "    }\n",
       "</style>\n",
       "<table border=\"1\" class=\"dataframe\">\n",
       "  <thead>\n",
       "    <tr style=\"text-align: right;\">\n",
       "      <th></th>\n",
       "      <th>Month</th>\n",
       "      <th>Date Event Began</th>\n",
       "      <th>Time Event Began</th>\n",
       "      <th>Date of Restoration</th>\n",
       "      <th>Time of Restoration</th>\n",
       "      <th>Area Affected</th>\n",
       "      <th>NERC Region</th>\n",
       "      <th>Alert Criteria</th>\n",
       "      <th>Event Type</th>\n",
       "      <th>Demand Loss (MW)</th>\n",
       "      <th>Number of Customers Affected</th>\n",
       "    </tr>\n",
       "  </thead>\n",
       "  <tbody>\n",
       "    <tr>\n",
       "      <td>7</td>\n",
       "      <td>February</td>\n",
       "      <td>2015-02-04 00:00:00</td>\n",
       "      <td>11:55:00</td>\n",
       "      <td>2015-02-04 00:00:00</td>\n",
       "      <td>11:56:00</td>\n",
       "      <td>Vollmers, California</td>\n",
       "      <td>WECC</td>\n",
       "      <td>Suspected Physical Attack</td>\n",
       "      <td>Vandalism</td>\n",
       "      <td>Unknown</td>\n",
       "      <td>Unknown</td>\n",
       "    </tr>\n",
       "    <tr>\n",
       "      <td>9</td>\n",
       "      <td>February</td>\n",
       "      <td>2015-02-05 00:00:00</td>\n",
       "      <td>11:20:00</td>\n",
       "      <td>2015-02-05 00:00:00</td>\n",
       "      <td>11:21:00</td>\n",
       "      <td>Dunismuir, California</td>\n",
       "      <td>WECC</td>\n",
       "      <td>Suspected Physical Attack</td>\n",
       "      <td>Vandalism</td>\n",
       "      <td>Unknown</td>\n",
       "      <td>Unknown</td>\n",
       "    </tr>\n",
       "    <tr>\n",
       "      <td>10</td>\n",
       "      <td>February</td>\n",
       "      <td>2015-02-06 00:00:00</td>\n",
       "      <td>20:58:00</td>\n",
       "      <td>Unknown</td>\n",
       "      <td>Unknown</td>\n",
       "      <td>Northern California</td>\n",
       "      <td>WECC</td>\n",
       "      <td>Loss of electric service to more than 50,000 c...</td>\n",
       "      <td>Severe Weather - Wind</td>\n",
       "      <td>Unknown</td>\n",
       "      <td>65000</td>\n",
       "    </tr>\n",
       "    <tr>\n",
       "      <td>29</td>\n",
       "      <td>March</td>\n",
       "      <td>2015-03-26 00:00:00</td>\n",
       "      <td>15:21:00</td>\n",
       "      <td>2015-03-26 00:00:00</td>\n",
       "      <td>16:59:00</td>\n",
       "      <td>Contra Costa County, California</td>\n",
       "      <td>WECC</td>\n",
       "      <td>Electrical System Separation (Islanding) where...</td>\n",
       "      <td>System Operations</td>\n",
       "      <td>15</td>\n",
       "      <td>Unknown</td>\n",
       "    </tr>\n",
       "    <tr>\n",
       "      <td>30</td>\n",
       "      <td>March</td>\n",
       "      <td>2015-03-29 00:00:00</td>\n",
       "      <td>04:26:00</td>\n",
       "      <td>2015-03-29 00:00:00</td>\n",
       "      <td>09:21:00</td>\n",
       "      <td>California</td>\n",
       "      <td>WECC</td>\n",
       "      <td>Suspected Physical Attack</td>\n",
       "      <td>Vandalism</td>\n",
       "      <td>Unknown</td>\n",
       "      <td>Unknown</td>\n",
       "    </tr>\n",
       "    <tr>\n",
       "      <td>...</td>\n",
       "      <td>...</td>\n",
       "      <td>...</td>\n",
       "      <td>...</td>\n",
       "      <td>...</td>\n",
       "      <td>...</td>\n",
       "      <td>...</td>\n",
       "      <td>...</td>\n",
       "      <td>...</td>\n",
       "      <td>...</td>\n",
       "      <td>...</td>\n",
       "      <td>...</td>\n",
       "    </tr>\n",
       "    <tr>\n",
       "      <td>756</td>\n",
       "      <td>May</td>\n",
       "      <td>05/24/2019</td>\n",
       "      <td>21:47:00</td>\n",
       "      <td>05/24/2019</td>\n",
       "      <td>23:58:00</td>\n",
       "      <td>California:</td>\n",
       "      <td>WECC</td>\n",
       "      <td>Electrical System Separation (Islanding) where...</td>\n",
       "      <td>Severe Weather</td>\n",
       "      <td>20</td>\n",
       "      <td>10961</td>\n",
       "    </tr>\n",
       "    <tr>\n",
       "      <td>758</td>\n",
       "      <td>June</td>\n",
       "      <td>06/02/2019</td>\n",
       "      <td>18:19:00</td>\n",
       "      <td>06/02/2019</td>\n",
       "      <td>20:43:00</td>\n",
       "      <td>California:</td>\n",
       "      <td>WECC</td>\n",
       "      <td>Electrical System Separation (Islanding) where...</td>\n",
       "      <td>Severe Weather/Transmission Interruption</td>\n",
       "      <td>Unknown</td>\n",
       "      <td>Unknown</td>\n",
       "    </tr>\n",
       "    <tr>\n",
       "      <td>769</td>\n",
       "      <td>June</td>\n",
       "      <td>06/12/2019</td>\n",
       "      <td>14:56:00</td>\n",
       "      <td>06/12/2019</td>\n",
       "      <td>15:50:00</td>\n",
       "      <td>California: Imperial County, Riverside County;</td>\n",
       "      <td>WECC</td>\n",
       "      <td>Firm load shedding of 100 Megawatts or more im...</td>\n",
       "      <td>Generation Inadequacy</td>\n",
       "      <td>982</td>\n",
       "      <td>30907</td>\n",
       "    </tr>\n",
       "    <tr>\n",
       "      <td>808</td>\n",
       "      <td>July</td>\n",
       "      <td>07/23/2019</td>\n",
       "      <td>03:22:00</td>\n",
       "      <td>07/23/2019</td>\n",
       "      <td>05:40:00</td>\n",
       "      <td>California: Santa Cruz County;</td>\n",
       "      <td>WECC</td>\n",
       "      <td>Damage or destruction of its Facility that res...</td>\n",
       "      <td>Vandalism</td>\n",
       "      <td>Unknown</td>\n",
       "      <td>25</td>\n",
       "    </tr>\n",
       "    <tr>\n",
       "      <td>829</td>\n",
       "      <td>August</td>\n",
       "      <td>08/15/2019</td>\n",
       "      <td>23:03:00</td>\n",
       "      <td>08/16/2019</td>\n",
       "      <td>00:37:00</td>\n",
       "      <td>California: Marin County;</td>\n",
       "      <td>WECC</td>\n",
       "      <td>Loss of electric service to more than 50,000 c...</td>\n",
       "      <td>Distribution Interruption</td>\n",
       "      <td>80</td>\n",
       "      <td>61318</td>\n",
       "    </tr>\n",
       "  </tbody>\n",
       "</table>\n",
       "<p>89 rows × 11 columns</p>\n",
       "</div>"
      ],
      "text/plain": [
       "        Month     Date Event Began Time Event Began  Date of Restoration  \\\n",
       "7    February  2015-02-04 00:00:00         11:55:00  2015-02-04 00:00:00   \n",
       "9    February  2015-02-05 00:00:00         11:20:00  2015-02-05 00:00:00   \n",
       "10   February  2015-02-06 00:00:00         20:58:00              Unknown   \n",
       "29      March  2015-03-26 00:00:00         15:21:00  2015-03-26 00:00:00   \n",
       "30      March  2015-03-29 00:00:00         04:26:00  2015-03-29 00:00:00   \n",
       "..        ...                  ...              ...                  ...   \n",
       "756       May           05/24/2019         21:47:00           05/24/2019   \n",
       "758      June           06/02/2019         18:19:00           06/02/2019   \n",
       "769      June           06/12/2019         14:56:00           06/12/2019   \n",
       "808      July           07/23/2019         03:22:00           07/23/2019   \n",
       "829    August           08/15/2019         23:03:00           08/16/2019   \n",
       "\n",
       "    Time of Restoration                                   Area Affected  \\\n",
       "7              11:56:00                            Vollmers, California   \n",
       "9              11:21:00                           Dunismuir, California   \n",
       "10              Unknown                             Northern California   \n",
       "29             16:59:00                 Contra Costa County, California   \n",
       "30             09:21:00                                      California   \n",
       "..                  ...                                             ...   \n",
       "756            23:58:00                                     California:   \n",
       "758            20:43:00                                     California:   \n",
       "769            15:50:00  California: Imperial County, Riverside County;   \n",
       "808            05:40:00                  California: Santa Cruz County;   \n",
       "829            00:37:00                       California: Marin County;   \n",
       "\n",
       "    NERC Region                                     Alert Criteria  \\\n",
       "7          WECC                          Suspected Physical Attack   \n",
       "9          WECC                          Suspected Physical Attack   \n",
       "10         WECC  Loss of electric service to more than 50,000 c...   \n",
       "29         WECC  Electrical System Separation (Islanding) where...   \n",
       "30         WECC                          Suspected Physical Attack   \n",
       "..          ...                                                ...   \n",
       "756        WECC  Electrical System Separation (Islanding) where...   \n",
       "758        WECC  Electrical System Separation (Islanding) where...   \n",
       "769        WECC  Firm load shedding of 100 Megawatts or more im...   \n",
       "808        WECC  Damage or destruction of its Facility that res...   \n",
       "829        WECC  Loss of electric service to more than 50,000 c...   \n",
       "\n",
       "                                   Event Type Demand Loss (MW)  \\\n",
       "7                                   Vandalism          Unknown   \n",
       "9                                   Vandalism          Unknown   \n",
       "10                      Severe Weather - Wind          Unknown   \n",
       "29                          System Operations               15   \n",
       "30                                  Vandalism          Unknown   \n",
       "..                                        ...              ...   \n",
       "756                            Severe Weather               20   \n",
       "758  Severe Weather/Transmission Interruption          Unknown   \n",
       "769                     Generation Inadequacy              982   \n",
       "808                                 Vandalism          Unknown   \n",
       "829                 Distribution Interruption               80   \n",
       "\n",
       "    Number of Customers Affected  \n",
       "7                        Unknown  \n",
       "9                        Unknown  \n",
       "10                         65000  \n",
       "29                       Unknown  \n",
       "30                       Unknown  \n",
       "..                           ...  \n",
       "756                        10961  \n",
       "758                      Unknown  \n",
       "769                        30907  \n",
       "808                           25  \n",
       "829                        61318  \n",
       "\n",
       "[89 rows x 11 columns]"
      ]
     },
     "execution_count": 43,
     "metadata": {},
     "output_type": "execute_result"
    }
   ],
   "source": [
    "df_ca"
   ]
  },
  {
   "cell_type": "markdown",
   "metadata": {},
   "source": [
    "**Should we get rid of `Demand Loss (MW)` = \"Unknown\"?**\n",
    "\n",
    "**Some might actually be power outage event.**"
   ]
  },
  {
   "cell_type": "code",
   "execution_count": 41,
   "metadata": {},
   "outputs": [
    {
     "data": {
      "text/html": [
       "<div>\n",
       "<style scoped>\n",
       "    .dataframe tbody tr th:only-of-type {\n",
       "        vertical-align: middle;\n",
       "    }\n",
       "\n",
       "    .dataframe tbody tr th {\n",
       "        vertical-align: top;\n",
       "    }\n",
       "\n",
       "    .dataframe thead th {\n",
       "        text-align: right;\n",
       "    }\n",
       "</style>\n",
       "<table border=\"1\" class=\"dataframe\">\n",
       "  <thead>\n",
       "    <tr style=\"text-align: right;\">\n",
       "      <th></th>\n",
       "      <th>Month</th>\n",
       "      <th>Date Event Began</th>\n",
       "      <th>Time Event Began</th>\n",
       "      <th>Date of Restoration</th>\n",
       "      <th>Time of Restoration</th>\n",
       "      <th>Area Affected</th>\n",
       "      <th>NERC Region</th>\n",
       "      <th>Alert Criteria</th>\n",
       "      <th>Event Type</th>\n",
       "      <th>Demand Loss (MW)</th>\n",
       "      <th>Number of Customers Affected</th>\n",
       "    </tr>\n",
       "  </thead>\n",
       "  <tbody>\n",
       "    <tr>\n",
       "      <td>7</td>\n",
       "      <td>February</td>\n",
       "      <td>2015-02-04 00:00:00</td>\n",
       "      <td>11:55:00</td>\n",
       "      <td>2015-02-04 00:00:00</td>\n",
       "      <td>11:56:00</td>\n",
       "      <td>Vollmers, California</td>\n",
       "      <td>WECC</td>\n",
       "      <td>Suspected Physical Attack</td>\n",
       "      <td>Vandalism</td>\n",
       "      <td>Unknown</td>\n",
       "      <td>Unknown</td>\n",
       "    </tr>\n",
       "    <tr>\n",
       "      <td>9</td>\n",
       "      <td>February</td>\n",
       "      <td>2015-02-05 00:00:00</td>\n",
       "      <td>11:20:00</td>\n",
       "      <td>2015-02-05 00:00:00</td>\n",
       "      <td>11:21:00</td>\n",
       "      <td>Dunismuir, California</td>\n",
       "      <td>WECC</td>\n",
       "      <td>Suspected Physical Attack</td>\n",
       "      <td>Vandalism</td>\n",
       "      <td>Unknown</td>\n",
       "      <td>Unknown</td>\n",
       "    </tr>\n",
       "    <tr>\n",
       "      <td>10</td>\n",
       "      <td>February</td>\n",
       "      <td>2015-02-06 00:00:00</td>\n",
       "      <td>20:58:00</td>\n",
       "      <td>Unknown</td>\n",
       "      <td>Unknown</td>\n",
       "      <td>Northern California</td>\n",
       "      <td>WECC</td>\n",
       "      <td>Loss of electric service to more than 50,000 c...</td>\n",
       "      <td>Severe Weather - Wind</td>\n",
       "      <td>Unknown</td>\n",
       "      <td>65000</td>\n",
       "    </tr>\n",
       "    <tr>\n",
       "      <td>30</td>\n",
       "      <td>March</td>\n",
       "      <td>2015-03-29 00:00:00</td>\n",
       "      <td>04:26:00</td>\n",
       "      <td>2015-03-29 00:00:00</td>\n",
       "      <td>09:21:00</td>\n",
       "      <td>California</td>\n",
       "      <td>WECC</td>\n",
       "      <td>Suspected Physical Attack</td>\n",
       "      <td>Vandalism</td>\n",
       "      <td>Unknown</td>\n",
       "      <td>Unknown</td>\n",
       "    </tr>\n",
       "    <tr>\n",
       "      <td>34</td>\n",
       "      <td>April</td>\n",
       "      <td>2015-04-06 00:00:00</td>\n",
       "      <td>08:12:00</td>\n",
       "      <td>2015-04-06 00:00:00</td>\n",
       "      <td>12:08:00</td>\n",
       "      <td>Butte County, California</td>\n",
       "      <td>WECC</td>\n",
       "      <td>Loss of electric service to more than 50,000 c...</td>\n",
       "      <td>System Operations</td>\n",
       "      <td>Unknown</td>\n",
       "      <td>80000</td>\n",
       "    </tr>\n",
       "  </tbody>\n",
       "</table>\n",
       "</div>"
      ],
      "text/plain": [
       "       Month     Date Event Began Time Event Began  Date of Restoration  \\\n",
       "7   February  2015-02-04 00:00:00         11:55:00  2015-02-04 00:00:00   \n",
       "9   February  2015-02-05 00:00:00         11:20:00  2015-02-05 00:00:00   \n",
       "10  February  2015-02-06 00:00:00         20:58:00              Unknown   \n",
       "30     March  2015-03-29 00:00:00         04:26:00  2015-03-29 00:00:00   \n",
       "34     April  2015-04-06 00:00:00         08:12:00  2015-04-06 00:00:00   \n",
       "\n",
       "   Time of Restoration             Area Affected NERC Region  \\\n",
       "7             11:56:00      Vollmers, California        WECC   \n",
       "9             11:21:00     Dunismuir, California        WECC   \n",
       "10             Unknown       Northern California        WECC   \n",
       "30            09:21:00                California        WECC   \n",
       "34            12:08:00  Butte County, California        WECC   \n",
       "\n",
       "                                       Alert Criteria             Event Type  \\\n",
       "7                           Suspected Physical Attack              Vandalism   \n",
       "9                           Suspected Physical Attack              Vandalism   \n",
       "10  Loss of electric service to more than 50,000 c...  Severe Weather - Wind   \n",
       "30                          Suspected Physical Attack              Vandalism   \n",
       "34  Loss of electric service to more than 50,000 c...      System Operations   \n",
       "\n",
       "   Demand Loss (MW) Number of Customers Affected  \n",
       "7           Unknown                      Unknown  \n",
       "9           Unknown                      Unknown  \n",
       "10          Unknown                        65000  \n",
       "30          Unknown                      Unknown  \n",
       "34          Unknown                        80000  "
      ]
     },
     "execution_count": 41,
     "metadata": {},
     "output_type": "execute_result"
    }
   ],
   "source": [
    "df_ca[df_ca['Demand Loss (MW)'] == 'Unknown'].head()"
   ]
  },
  {
   "cell_type": "code",
   "execution_count": null,
   "metadata": {},
   "outputs": [],
   "source": []
  }
 ],
 "metadata": {
  "kernelspec": {
   "display_name": "Python 3",
   "language": "python",
   "name": "python3"
  },
  "language_info": {
   "codemirror_mode": {
    "name": "ipython",
    "version": 3
   },
   "file_extension": ".py",
   "mimetype": "text/x-python",
   "name": "python",
   "nbconvert_exporter": "python",
   "pygments_lexer": "ipython3",
   "version": "3.7.3"
  }
 },
 "nbformat": 4,
 "nbformat_minor": 2
}

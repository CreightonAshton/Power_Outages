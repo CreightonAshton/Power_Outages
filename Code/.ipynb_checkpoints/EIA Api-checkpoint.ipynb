{
 "cells": [
  {
   "cell_type": "code",
   "execution_count": 1,
   "metadata": {},
   "outputs": [],
   "source": [
    "from eiapy import Series"
   ]
  },
  {
   "cell_type": "code",
   "execution_count": 2,
   "metadata": {},
   "outputs": [],
   "source": [
    "!export EIA_KEY = 220f30d38dcad017a3bb7f6a3548ec5a"
   ]
  },
  {
   "cell_type": "code",
   "execution_count": 3,
   "metadata": {},
   "outputs": [
    {
     "data": {
      "text/plain": [
       "([['20170704T23Z', 21792],\n",
       "  ['20170704T22Z', 22007],\n",
       "  ['20170704T21Z', 22004],\n",
       "  ['20170704T20Z', 21754],\n",
       "  ['20170704T19Z', 21403],\n",
       "  ['20170704T18Z', 21009],\n",
       "  ['20170704T17Z', 20601]],\n",
       " [['20171123T23Z', 17006],\n",
       "  ['20171123T22Z', 16702],\n",
       "  ['20171123T21Z', 16459],\n",
       "  ['20171123T20Z', 16637],\n",
       "  ['20171123T19Z', 16949],\n",
       "  ['20171123T18Z', 17258],\n",
       "  ['20171123T17Z', 17354]],\n",
       " [['20171225T23Z', 19076],\n",
       "  ['20171225T22Z', 18193],\n",
       "  ['20171225T21Z', 17513],\n",
       "  ['20171225T20Z', 17379],\n",
       "  ['20171225T19Z', 17382],\n",
       "  ['20171225T18Z', 17532],\n",
       "  ['20171225T17Z', 17526]])"
      ]
     },
     "execution_count": 3,
     "metadata": {},
     "output_type": "execute_result"
    }
   ],
   "source": [
    "# Check electrical demand in New York on the 4th of July, Thanksgiving & Christmas in the evening.            \n",
    "\n",
    "demand_by_hour = Series('EBA.NYIS-ALL.D.H')\n",
    "\n",
    "# just return the data            \n",
    "indep = demand_by_hour.get_data(start='20170704T17Z', end='20170704T23Z')['series'][0]['data']\n",
    "thanks = demand_by_hour.get_data(start='20171123T17Z', end='20171123T23Z')['series'][0]['data']\n",
    "xmas = demand_by_hour.get_data(start='20171225T17Z', end='20171225T23Z')['series'][0]['data']\n",
    "\n",
    "([['20170704T23Z', 21792],\n",
    "  ['20170704T22Z', 22007],\n",
    "  ['20170704T21Z', 22004],\n",
    "  ['20170704T20Z', 21754],\n",
    "  ['20170704T19Z', 21403],\n",
    "  ['20170704T18Z', 21009],\n",
    "  ['20170704T17Z', 20601]],\n",
    " [['20171123T23Z', 17006],\n",
    "  ['20171123T22Z', 16702],\n",
    "  ['20171123T21Z', 16459],\n",
    "  ['20171123T20Z', 16637],\n",
    "  ['20171123T19Z', 16949],\n",
    "  ['20171123T18Z', 17258],\n",
    "  ['20171123T17Z', 17354]],\n",
    " [['20171225T23Z', 19076],\n",
    "  ['20171225T22Z', 18193],\n",
    "  ['20171225T21Z', 17513],\n",
    "  ['20171225T20Z', 17379],\n",
    "  ['20171225T19Z', 17382],\n",
    "  ['20171225T18Z', 17532],\n",
    "  ['20171225T17Z', 17526]])"
   ]
  },
  {
   "cell_type": "code",
   "execution_count": null,
   "metadata": {},
   "outputs": [],
   "source": []
  }
 ],
 "metadata": {
  "kernelspec": {
   "display_name": "Python 3",
   "language": "python",
   "name": "python3"
  },
  "language_info": {
   "codemirror_mode": {
    "name": "ipython",
    "version": 3
   },
   "file_extension": ".py",
   "mimetype": "text/x-python",
   "name": "python",
   "nbconvert_exporter": "python",
   "pygments_lexer": "ipython3",
   "version": "3.7.3"
  }
 },
 "nbformat": 4,
 "nbformat_minor": 2
}

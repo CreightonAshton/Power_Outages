{
 "cells": [
  {
   "cell_type": "code",
   "execution_count": 5,
   "metadata": {
    "scrolled": true
   },
   "outputs": [],
   "source": [
    "import pandas as pd\n",
    "import time, datetime\n",
    "import re\n",
    "import pickle\n",
    "\n",
    "from datetime import timedelta\n",
    "from twitterscraper import query_tweets\n",
    "from nltk.tokenize import RegexpTokenizer"
   ]
  },
  {
   "cell_type": "markdown",
   "metadata": {},
   "source": [
    "___"
   ]
  },
  {
   "cell_type": "code",
   "execution_count": 2,
   "metadata": {},
   "outputs": [],
   "source": [
    "def scrape_twitter(place):\n",
    "    # set empty lists that we will fill with tweet data\n",
    "    text = []\n",
    "    locs = []\n",
    "    times = []\n",
    "\n",
    "    # scrape twitter for tweets containing certain keywords \n",
    "    query_string = f'\"power outage\" OR \"power is out\" OR \"power\\'s out\" OR \"blackouts\" OR \"blackout\" -\"video game\" OR \"power failure\" OR \"power failures\" OR \"no electricity\" OR \"power shortage\" OR \"electrical failure\" OR \"power loss\" OR \"power cuts\" OR \"power cut\" OR \"power went out\" OR \"power interuption\" OR \"brownout\" OR \"power goes out\" OR \"brownouts\" OR \"without power\" near:\"{place}\" within:15mi -filter:retweets'\n",
    "    list_of_tweets = query_tweets(query_string,\n",
    "                            begindate = datetime.datetime.today().date(),\n",
    "                            enddate = datetime.datetime.today().date() + timedelta(days=1),\n",
    "                            poolsize = 2,\n",
    "                            lang=\"en\"\n",
    "                           )\n",
    "\n",
    "    # loop through each tweet to grab data and append the data to their respective lists\n",
    "    for tweet in list_of_tweets:\n",
    "        locs.append(place)\n",
    "        text.append(tweet.text)\n",
    "        times.append(tweet.timestamp)\n",
    "\n",
    "    # build the dataframe \n",
    "    df = pd.DataFrame({\n",
    "        'tweet': text,\n",
    "        'location': locs,\n",
    "        'time_stamp': times,\n",
    "    })\n",
    "\n",
    "    return df"
   ]
  },
  {
   "cell_type": "code",
   "execution_count": 3,
   "metadata": {
    "scrolled": true
   },
   "outputs": [
    {
     "name": "stderr",
     "output_type": "stream",
     "text": [
      "INFO: queries: ['\"power outage\" OR \"power is out\" OR \"power\\'s out\" OR \"blackouts\" OR \"blackout\" -\"video game\" OR \"power failure\" OR \"power failures\" OR \"no electricity\" OR \"power shortage\" OR \"electrical failure\" OR \"power loss\" OR \"power cuts\" OR \"power cut\" OR \"power went out\" OR \"power interuption\" OR \"brownout\" OR \"power goes out\" OR \"brownouts\" OR \"without power\" near:\"Alabama\" within:15mi -filter:retweets since:2019-11-06 until:2019-11-07']\n",
      "INFO: Querying \"power outage\" OR \"power is out\" OR \"power's out\" OR \"blackouts\" OR \"blackout\" -\"video game\" OR \"power failure\" OR \"power failures\" OR \"no electricity\" OR \"power shortage\" OR \"electrical failure\" OR \"power loss\" OR \"power cuts\" OR \"power cut\" OR \"power went out\" OR \"power interuption\" OR \"brownout\" OR \"power goes out\" OR \"brownouts\" OR \"without power\" near:\"Alabama\" within:15mi -filter:retweets since:2019-11-06 until:2019-11-07\n",
      "INFO: Scraping tweets from https://twitter.com/search?f=tweets&vertical=default&q=\"power%20outage\"%20OR%20\"power%20is%20out\"%20OR%20\"power's%20out\"%20OR%20\"blackouts\"%20OR%20\"blackout\"%20-\"video%20game\"%20OR%20\"power%20failure\"%20OR%20\"power%20failures\"%20OR%20\"no%20electricity\"%20OR%20\"power%20shortage\"%20OR%20\"electrical%20failure\"%20OR%20\"power%20loss\"%20OR%20\"power%20cuts\"%20OR%20\"power%20cut\"%20OR%20\"power%20went%20out\"%20OR%20\"power%20interuption\"%20OR%20\"brownout\"%20OR%20\"power%20goes%20out\"%20OR%20\"brownouts\"%20OR%20\"without%20power\"%20near%3A\"Alabama\"%20within%3A15mi%20-filter%3Aretweets%20since%3A2019-11-06%20until%3A2019-11-07&l=en\n",
      "INFO: Using proxy 1.2.169.101:47477\n",
      "INFO: Scraping tweets from https://twitter.com/i/search/timeline?f=tweets&vertical=default&include_available_features=1&include_entities=1&reset_error_state=false&src=typd&max_position=TWEET-1191924624520613888-1192165411413987328&q=\"power%20outage\"%20OR%20\"power%20is%20out\"%20OR%20\"power's%20out\"%20OR%20\"blackouts\"%20OR%20\"blackout\"%20-\"video%20game\"%20OR%20\"power%20failure\"%20OR%20\"power%20failures\"%20OR%20\"no%20electricity\"%20OR%20\"power%20shortage\"%20OR%20\"electrical%20failure\"%20OR%20\"power%20loss\"%20OR%20\"power%20cuts\"%20OR%20\"power%20cut\"%20OR%20\"power%20went%20out\"%20OR%20\"power%20interuption\"%20OR%20\"brownout\"%20OR%20\"power%20goes%20out\"%20OR%20\"brownouts\"%20OR%20\"without%20power\"%20near%3A\"Alabama\"%20within%3A15mi%20-filter%3Aretweets%20since%3A2019-11-06%20until%3A2019-11-07&l=en\n",
      "INFO: Using proxy 138.97.12.150:49649\n",
      "INFO: Scraping tweets from https://twitter.com/i/search/timeline?f=tweets&vertical=default&include_available_features=1&include_entities=1&reset_error_state=false&src=typd&max_position=thGAVUV0VFVBaAwLy5sMjIiiEWgMC0zYKItoshEjUAFQAlAFUAFQAA&q=\"power%20outage\"%20OR%20\"power%20is%20out\"%20OR%20\"power's%20out\"%20OR%20\"blackouts\"%20OR%20\"blackout\"%20-\"video%20game\"%20OR%20\"power%20failure\"%20OR%20\"power%20failures\"%20OR%20\"no%20electricity\"%20OR%20\"power%20shortage\"%20OR%20\"electrical%20failure\"%20OR%20\"power%20loss\"%20OR%20\"power%20cuts\"%20OR%20\"power%20cut\"%20OR%20\"power%20went%20out\"%20OR%20\"power%20interuption\"%20OR%20\"brownout\"%20OR%20\"power%20goes%20out\"%20OR%20\"brownouts\"%20OR%20\"without%20power\"%20near%3A\"Alabama\"%20within%3A15mi%20-filter%3Aretweets%20since%3A2019-11-06%20until%3A2019-11-07&l=en\n",
      "INFO: Using proxy 85.159.48.170:40014\n",
      "INFO: Twitter returned : 'has_more_items' \n",
      "INFO: Got 4 tweets for \"power%20outage\"%20OR%20\"power%20is%20out\"%20OR%20\"power's%20out\"%20OR%20\"blackouts\"%20OR%20\"blackout\"%20-\"video%20game\"%20OR%20\"power%20failure\"%20OR%20\"power%20failures\"%20OR%20\"no%20electricity\"%20OR%20\"power%20shortage\"%20OR%20\"electrical%20failure\"%20OR%20\"power%20loss\"%20OR%20\"power%20cuts\"%20OR%20\"power%20cut\"%20OR%20\"power%20went%20out\"%20OR%20\"power%20interuption\"%20OR%20\"brownout\"%20OR%20\"power%20goes%20out\"%20OR%20\"brownouts\"%20OR%20\"without%20power\"%20near%3A\"Alabama\"%20within%3A15mi%20-filter%3Aretweets%20since%3A2019-11-06%20until%3A2019-11-07.\n",
      "INFO: Got 4 tweets (4 new).\n"
     ]
    }
   ],
   "source": [
    "df = scrape_twitter('Alabama')"
   ]
  },
  {
   "cell_type": "code",
   "execution_count": 4,
   "metadata": {},
   "outputs": [
    {
     "data": {
      "text/plain": [
       "'love 2 have a random power outage and suddenly have a desktop with a fucked hard drive guess i ll scrape together some money to fix it bungie destinythegame i now refuse to play any activity whatsoever that has blackout as a modifier remove that mess from the game completely love 2 have a random power outage and suddenly have a desktop with a fucked hard drive guess i ll scrape together some money to fix it bungie destinythegame i now refuse to play any activity whatsoever that has blackout as a modifier remove that mess from the game completely'"
      ]
     },
     "execution_count": 4,
     "metadata": {},
     "output_type": "execute_result"
    }
   ],
   "source": [
    "# remove any twitter pic urls\n",
    "df['tweet'] = [re.sub(r'pic.twitter.com\\S+', '', post).strip() for post in df['tweet']]\n",
    "\n",
    "# remove any http urls\n",
    "df['tweet'] = [re.sub(r'http\\S+', '', post).strip() for post in df['tweet']]\n",
    "\n",
    "# instatiate the tokenizer\n",
    "tknr = RegexpTokenizer(r'[a-zA-Z&0-9]+')\n",
    "\n",
    "# start with empty lists\n",
    "tokens = []\n",
    "\n",
    "# fill the list with tokenized versions of each post title\n",
    "for post in df['tweet']:\n",
    "    tokens.append(\" \".join(tknr.tokenize(post.lower())))\n",
    "\n",
    "df['tweet'] = tokens\n",
    "\n",
    "df = df.reset_index(drop=True)\n",
    "\n",
    "tweets = [tweet for tweet in df['tweet']]\n",
    "\n",
    "master_tweets = ' '.join(tweets)\n",
    "\n",
    "master_tweets"
   ]
  },
  {
   "cell_type": "code",
   "execution_count": null,
   "metadata": {},
   "outputs": [],
   "source": []
  }
 ],
 "metadata": {
  "kernelspec": {
   "display_name": "Python 3",
   "language": "python",
   "name": "python3"
  },
  "language_info": {
   "codemirror_mode": {
    "name": "ipython",
    "version": 3
   },
   "file_extension": ".py",
   "mimetype": "text/x-python",
   "name": "python",
   "nbconvert_exporter": "python",
   "pygments_lexer": "ipython3",
   "version": "3.7.3"
  }
 },
 "nbformat": 4,
 "nbformat_minor": 2
}
